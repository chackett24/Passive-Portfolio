{
 "cells": [
  {
   "cell_type": "code",
   "execution_count": 1,
   "id": "1947f0ae-041b-46a2-a629-9f5f40f6d684",
   "metadata": {},
   "outputs": [],
   "source": [
    "import yfinance as yf\n",
    "import pandas as pd\n",
    "import time\n",
    "\n",
    "returns = pd.read_csv('returns.csv')\n",
    "tickers = list(returns.columns)[1:]  \n",
    "\n",
    "data = []\n",
    "\n",
    "for ticker in tickers:\n",
    "    try:\n",
    "        info = yf.Ticker(ticker).info\n",
    "        row = {\n",
    "            'Ticker': ticker,\n",
    "            'MarketCap': info.get('marketCap', 0),\n",
    "            'Sector': info.get('sector', 'Unknown'),\n",
    "            'Country': info.get('country', 'Unknown')\n",
    "        }\n",
    "        data.append(row)\n",
    "        time.sleep(1.5)  \n",
    "    except Exception as e:\n",
    "        print(f\"Error retrieving {ticker}: {e}\")\n",
    "        data.append({'Ticker': ticker, 'MarketCap': 0, 'Sector': 'Unknown', 'Country': 'Unknown'})\n"
   ]
  },
  {
   "cell_type": "code",
   "execution_count": 5,
   "id": "6cd67ac2-29d2-421e-a516-4591d24d9ca4",
   "metadata": {},
   "outputs": [],
   "source": [
    "df = pd.DataFrame(data)\n",
    "\n",
    "# Size classification\n",
    "df['SmallCap'] = (df['MarketCap'] < 2e9).astype(int)\n",
    "df['MidCap'] = ((df['MarketCap'] >= 2e9) & (df['MarketCap'] < 1e10)).astype(int)\n",
    "df['LargeCap'] = (df['MarketCap'] >= 1e10).astype(int)\n",
    "\n",
    "# Sector classification\n",
    "df['Tech'] = df['Sector'].str.contains('Technology', case=False, na=False).astype(int)\n",
    "df['Finance'] = df['Sector'].str.contains('Financial|Bank', case=False, na=False).astype(int)\n",
    "df['Healthcare'] = df['Sector'].str.contains('Health', case=False, na=False).astype(int)\n",
    "df['Consumer'] = df['Sector'].str.contains('Consumer', case=False, na=False).astype(int)\n",
    "df['Energy'] = df['Sector'].str.contains('Energy|Oil|Gas', case=False, na=False).astype(int)\n",
    "df['Industrial'] = df['Sector'].str.contains('Industrials', case=False, na=False).astype(int)\n",
    "df['Utilities'] = df['Sector'].str.contains('Utilities', case=False, na=False).astype(int)\n",
    "\n",
    "# Country classification\n",
    "df['International'] = (df['Country'] != 'United States').astype(int)\n",
    "df['Domestic'] = (df['Country'] == 'United States').astype(int)\n",
    "\n"
   ]
  },
  {
   "cell_type": "code",
   "execution_count": 7,
   "id": "24449a32-a699-45ff-9651-acd7e472e2ac",
   "metadata": {},
   "outputs": [],
   "source": [
    "binary_df = df[['Ticker', 'SmallCap', 'MidCap', 'LargeCap',\n",
    "                'Tech', 'Finance', 'Healthcare', 'Consumer',\n",
    "                'Energy', 'Industrial', 'Utilities',\n",
    "                'International', 'Domestic']]\n",
    "\n",
    "binary_df.to_csv(\"ticker_attributes.csv\", index=False)\n"
   ]
  },
  {
   "cell_type": "code",
   "execution_count": null,
   "id": "bba6f64c-7ac0-426d-949e-e2a87c382562",
   "metadata": {},
   "outputs": [],
   "source": []
  }
 ],
 "metadata": {
  "kernelspec": {
   "display_name": "Python [conda env:base] *",
   "language": "python",
   "name": "conda-base-py"
  },
  "language_info": {
   "codemirror_mode": {
    "name": "ipython",
    "version": 3
   },
   "file_extension": ".py",
   "mimetype": "text/x-python",
   "name": "python",
   "nbconvert_exporter": "python",
   "pygments_lexer": "ipython3",
   "version": "3.11.7"
  }
 },
 "nbformat": 4,
 "nbformat_minor": 5
}
