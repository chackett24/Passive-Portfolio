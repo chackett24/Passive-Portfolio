{
 "cells": [
  {
   "cell_type": "code",
   "execution_count": 1,
   "id": "1947f0ae-041b-46a2-a629-9f5f40f6d684",
   "metadata": {},
   "outputs": [],
   "source": [
    "import yfinance as yf\n",
    "import pandas as pd\n",
    "import time\n",
    "\n",
    "returns = pd.read_csv('returns.csv')\n",
    "tickers = list(returns.columns)[1:]  \n",
    "\n",
    "data = []\n",
    "\n",
    "for ticker in tickers:\n",
    "    try:\n",
    "        info = yf.Ticker(ticker).info\n",
    "        row = {\n",
    "            'Ticker': ticker,\n",
    "            'MarketCap': info.get('marketCap', 0),\n",
    "            'Sector': info.get('sector', 'Unknown'),\n",
    "            'Country': info.get('country', 'Unknown')\n",
    "        }\n",
    "        data.append(row)\n",
    "        time.sleep(1.5)  \n",
    "    except Exception as e:\n",
    "        print(f\"Error retrieving {ticker}: {e}\")\n",
    "        data.append({'Ticker': ticker, 'MarketCap': 0, 'Sector': 'Unknown', 'Country': 'Unknown'})\n"
   ]
  },
  {
   "cell_type": "code",
   "execution_count": 5,
   "id": "6cd67ac2-29d2-421e-a516-4591d24d9ca4",
   "metadata": {},
   "outputs": [],
   "source": [
    "df = pd.DataFrame(data)\n",
    "\n",
    "# Size classification\n",
    "df['SmallCap'] = (df['MarketCap'] < 2e9).astype(int)\n",
    "df['MidCap'] = ((df['MarketCap'] >= 2e9) & (df['MarketCap'] < 1e10)).astype(int)\n",
    "df['LargeCap'] = (df['MarketCap'] >= 1e10).astype(int)\n",
    "\n",
    "# Sector classification\n",
    "df['Tech'] = df['Sector'].str.contains('Technology', case=False, na=False).astype(int)\n",
    "df['Finance'] = df['Sector'].str.contains('Financial|Bank', case=False, na=False).astype(int)\n",
    "df['Healthcare'] = df['Sector'].str.contains('Health', case=False, na=False).astype(int)\n",
    "df['Consumer'] = df['Sector'].str.contains('Consumer', case=False, na=False).astype(int)\n",
    "df['Energy'] = df['Sector'].str.contains('Energy|Oil|Gas', case=False, na=False).astype(int)\n",
    "df['Industrial'] = df['Sector'].str.contains('Industrials', case=False, na=False).astype(int)\n",
    "df['Utilities'] = df['Sector'].str.contains('Utilities', case=False, na=False).astype(int)\n",
    "\n",
    "# Country classification\n",
    "df['International'] = (df['Country'] != 'United States').astype(int)\n",
    "df['Domestic'] = (df['Country'] == 'United States').astype(int)\n",
    "\n"
   ]
  },
  {
   "cell_type": "code",
   "execution_count": 2,
   "id": "24449a32-a699-45ff-9651-acd7e472e2ac",
   "metadata": {},
   "outputs": [
    {
     "ename": "NameError",
     "evalue": "name 'df' is not defined",
     "output_type": "error",
     "traceback": [
      "\u001b[0;31m---------------------------------------------------------------------------\u001b[0m",
      "\u001b[0;31mNameError\u001b[0m                                 Traceback (most recent call last)",
      "Cell \u001b[0;32mIn[2], line 1\u001b[0m\n\u001b[0;32m----> 1\u001b[0m binary_df \u001b[38;5;241m=\u001b[39m df[[\u001b[38;5;124m'\u001b[39m\u001b[38;5;124mTicker\u001b[39m\u001b[38;5;124m'\u001b[39m, \u001b[38;5;124m'\u001b[39m\u001b[38;5;124mSmallCap\u001b[39m\u001b[38;5;124m'\u001b[39m, \u001b[38;5;124m'\u001b[39m\u001b[38;5;124mMidCap\u001b[39m\u001b[38;5;124m'\u001b[39m, \u001b[38;5;124m'\u001b[39m\u001b[38;5;124mLargeCap\u001b[39m\u001b[38;5;124m'\u001b[39m,\n\u001b[1;32m      2\u001b[0m                 \u001b[38;5;124m'\u001b[39m\u001b[38;5;124mTech\u001b[39m\u001b[38;5;124m'\u001b[39m, \u001b[38;5;124m'\u001b[39m\u001b[38;5;124mFinance\u001b[39m\u001b[38;5;124m'\u001b[39m, \u001b[38;5;124m'\u001b[39m\u001b[38;5;124mHealthcare\u001b[39m\u001b[38;5;124m'\u001b[39m, \u001b[38;5;124m'\u001b[39m\u001b[38;5;124mConsumer\u001b[39m\u001b[38;5;124m'\u001b[39m,\n\u001b[1;32m      3\u001b[0m                 \u001b[38;5;124m'\u001b[39m\u001b[38;5;124mEnergy\u001b[39m\u001b[38;5;124m'\u001b[39m, \u001b[38;5;124m'\u001b[39m\u001b[38;5;124mIndustrial\u001b[39m\u001b[38;5;124m'\u001b[39m, \u001b[38;5;124m'\u001b[39m\u001b[38;5;124mUtilities\u001b[39m\u001b[38;5;124m'\u001b[39m,\n\u001b[1;32m      4\u001b[0m                 \u001b[38;5;124m'\u001b[39m\u001b[38;5;124mInternational\u001b[39m\u001b[38;5;124m'\u001b[39m, \u001b[38;5;124m'\u001b[39m\u001b[38;5;124mDomestic\u001b[39m\u001b[38;5;124m'\u001b[39m]]\n\u001b[1;32m      6\u001b[0m binary_df\u001b[38;5;241m.\u001b[39mto_csv(\u001b[38;5;124m\"\u001b[39m\u001b[38;5;124mticker_attributes.csv\u001b[39m\u001b[38;5;124m\"\u001b[39m, index\u001b[38;5;241m=\u001b[39m\u001b[38;5;28;01mFalse\u001b[39;00m)\n",
      "\u001b[0;31mNameError\u001b[0m: name 'df' is not defined"
     ]
    }
   ],
   "source": [
    "binary_df = df[['Ticker', 'SmallCap', 'MidCap', 'LargeCap',\n",
    "                'Tech', 'Finance', 'Healthcare', 'Consumer',\n",
    "                'Energy', 'Industrial', 'Utilities',\n",
    "                'International', 'Domestic']]\n",
    "\n",
    "binary_df.to_csv(\"ticker_attributes.csv\", index=False)\n"
   ]
  },
  {
   "cell_type": "code",
   "execution_count": 7,
   "id": "3e02ceaf-3f49-4a7b-b29d-48357d78e264",
   "metadata": {},
   "outputs": [],
   "source": [
    "import pandas as pd\n",
    "\n",
    "#generate data file\n",
    "\n",
    "binary_df = pd.read_csv('ticker_attributes.csv')\n",
    "\n",
    "binary_df = binary_df.set_index(\"Ticker\")\n",
    "tickers = binary_df.index.tolist()\n",
    "features = binary_df.columns.tolist()\n",
    "\n",
    "# Example target vector \n",
    "targets = {\n",
    "    \"Tech\": 0.3,\n",
    "    \"Finance\": 0.2,\n",
    "    \"Healthcare\": .05,\n",
    "    \"Consumer\": .05,\n",
    "    \"Utilities\": .1,\n",
    "    \"Energy\": .1,\n",
    "    \"Industrial\": .1,\n",
    "    \"SmallCap\": 0.25,\n",
    "    \"MidCap\": 0.25,\n",
    "    \"LargeCap\": 0.5,\n",
    "    \"Domestic\": 0.7,\n",
    "    \"International\": 0.3\n",
    "}\n",
    "\n",
    "\n",
    "#example weights (replace with max_corr weights)\n",
    "x_orig = {ticker: 1 / len(tickers) for ticker in tickers}\n",
    "\n",
    "# Write AMPL-compatible .dat file\n",
    "with open(\"attributes.dat\", \"w\") as f_out:\n",
    "    # STOCKS\n",
    "    f_out.write(\"set STOCKS := \" + \" \".join(tickers) + \" ;\\n\\n\")\n",
    "\n",
    "    # FEATURES\n",
    "    f_out.write(\"set FEATURES := \" + \" \".join(features) + \" ;\\n\\n\")\n",
    "\n",
    "    # x_orig\n",
    "    f_out.write(\"param x_orig :=\\n\")\n",
    "    for t in tickers:\n",
    "        f_out.write(f\"  {t} {x_orig[t]:.6f}\\n\")\n",
    "    f_out.write(\";\\n\\n\")\n",
    "\n",
    "    # Feature matrix: param a\n",
    "    f_out.write(\"param a : \" + \" \".join(features) + \" :=\\n\")\n",
    "    for t in tickers:\n",
    "        row = \" \".join(str(int(binary_df.loc[t, feat])) for feat in features)\n",
    "        f_out.write(f\"{t} {row}\\n\")\n",
    "    f_out.write(\";\\n\\n\")\n",
    "\n",
    "    # Feature targets: param f\n",
    "    f_out.write(\"param f :=\\n\")\n",
    "    for feat in features:\n",
    "        f_out.write(f\"  {feat} {targets[feat]:.6f}\\n\")\n",
    "    f_out.write(\";\\n\")\n"
   ]
  },
  {
   "cell_type": "code",
   "execution_count": null,
   "id": "0741bd65-b07a-41b9-b844-6d20289d6de6",
   "metadata": {},
   "outputs": [],
   "source": []
  }
 ],
 "metadata": {
  "kernelspec": {
   "display_name": "Python [conda env:base] *",
   "language": "python",
   "name": "conda-base-py"
  },
  "language_info": {
   "codemirror_mode": {
    "name": "ipython",
    "version": 3
   },
   "file_extension": ".py",
   "mimetype": "text/x-python",
   "name": "python",
   "nbconvert_exporter": "python",
   "pygments_lexer": "ipython3",
   "version": "3.11.7"
  }
 },
 "nbformat": 4,
 "nbformat_minor": 5
}
