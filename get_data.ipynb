{
 "cells": [
  {
   "cell_type": "code",
   "execution_count": 1,
   "metadata": {},
   "outputs": [
    {
     "name": "stderr",
     "output_type": "stream",
     "text": [
      "[*********************100%***********************]  101 of 101 completed\n",
      "\n",
      "101 Failed downloads:\n",
      "['BK', 'INTU', 'ISRG', 'AIG', 'T', 'DHR', 'NKE', 'BAC', 'AMT', 'PFE', 'AMZN', 'LLY', 'NFLX', 'AMD', 'MDLZ', 'NOW', 'BKNG', 'TMO', 'TMUS', 'CL', 'COF', 'DUK', 'UNP', 'ABT', 'MS', 'UPS', 'MRK', 'VZ', 'MO', 'CAT', 'MMM', 'UNH', 'GOOGL', 'QCOM', 'AVGO', 'BA', 'HON', 'GM', 'SO', 'PEP', 'PYPL', 'GD', 'HD', 'WFC', 'MSFT', 'LMT', 'SBUX', 'GILD', 'CSCO', 'DIS', 'AXP', 'JNJ', 'CVX', 'CVS', 'BMY', 'AAPL', 'GE', 'TSLA', 'INTC', 'CRM', 'PLTR', 'CHTR', 'JPM', 'RTX', 'C', 'SCHW', 'NEE', 'TXN', 'META', 'DE', 'COP', 'MET', 'WMT', 'ADBE', 'COST', 'AMGN', 'MA', 'ORCL', 'ACN', 'LOW', 'PM', 'MDT', 'FDX', 'TGT', 'EMR', 'XOM', 'BRK-B', 'V', 'MCD', 'PG', 'NVDA', 'KO', 'LIN', 'SPG', 'GS', 'GOOG', 'IBM', 'ABBV', 'CMCSA', 'BLK', 'USB']: YFRateLimitError('Too Many Requests. Rate limited. Try after a while.')\n"
     ]
    }
   ],
   "source": [
    "import yfinance as yf\n",
    "import pandas as pd\n",
    "import numpy as np\n",
    "\n",
    "\n",
    "# Get the tickers for SP-100\n",
    "url = \"https://en.wikipedia.org/wiki/S%26P_100\"\n",
    "\n",
    "# Read the tables on the page\n",
    "tables = pd.read_html(url)\n",
    "\n",
    "tickers = tables[2]['Symbol'].tolist()\n",
    "tickers = [ticker.replace('.', '-') for ticker in tickers]\n",
    "\n",
    "\n",
    "# Download weekly adjusted close prices\n",
    "stock_prices         = yf.download(tickers, start=\"2020-01-01\", end=\"2023-12-31\", auto_adjust = False)\n",
    "stock_prices = stock_prices.resample('W').last()\n",
    "stock_prices.index   = stock_prices.index.tz_localize(None)      # change yf date format to match pdr\n",
    "stock_prices         = stock_prices.filter(like='Adj Close')\n",
    "\n",
    "# Drop columns with too many missing values (e.g. due to IPOs)\n",
    "stock_prices = stock_prices.dropna(axis=1, thresh=int(0.9 * len(stock_prices)))\n",
    "\n",
    "returns = stock_prices.pct_change().dropna().rename(columns={\"Adj Close\": \"Return\"})\n",
    "returns = returns.xs('Return', axis=1, level=0)\n",
    "returns.columns.name = None\n",
    "\n",
    "\n",
    "returns.to_csv(\"returns.csv\")\n"
   ]
  },
  {
   "cell_type": "code",
   "execution_count": null,
   "metadata": {},
   "outputs": [],
   "source": []
  }
 ],
 "metadata": {
  "kernelspec": {
   "display_name": "base",
   "language": "python",
   "name": "python3"
  },
  "language_info": {
   "codemirror_mode": {
    "name": "ipython",
    "version": 3
   },
   "file_extension": ".py",
   "mimetype": "text/x-python",
   "name": "python",
   "nbconvert_exporter": "python",
   "pygments_lexer": "ipython3",
   "version": "3.12.7"
  }
 },
 "nbformat": 4,
 "nbformat_minor": 2
}
