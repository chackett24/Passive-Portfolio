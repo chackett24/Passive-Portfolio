{
 "cells": [
  {
   "cell_type": "code",
   "execution_count": 1,
   "metadata": {},
   "outputs": [
    {
     "name": "stderr",
     "output_type": "stream",
     "text": [
      "[*********************100%***********************]  101 of 101 completed\n"
     ]
    }
   ],
   "source": [
    "import yfinance as yf\n",
    "import pandas as pd\n",
    "import numpy as np\n",
    "\n",
    "\n",
    "# Get the tickers for SP-100\n",
    "url = \"https://en.wikipedia.org/wiki/S%26P_100\"\n",
    "\n",
    "# Read the tables on the page\n",
    "tables = pd.read_html(url)\n",
    "\n",
    "tickers = tables[2]['Symbol'].tolist()\n",
    "tickers = [ticker.replace('.', '-') for ticker in tickers]\n",
    "\n",
    "\n",
    "# Download weekly adjusted close prices\n",
    "stock_prices         = yf.download(tickers, start=\"2020-01-01\", end=\"2023-12-31\", auto_adjust = False)\n",
    "stock_prices = stock_prices.resample('W').last()\n",
    "stock_prices.index   = stock_prices.index.tz_localize(None)      # change yf date format to match pdr\n",
    "stock_prices         = stock_prices.filter(like='Adj Close')\n",
    "\n",
    "# Drop columns with too many missing values (e.g. due to IPOs)\n",
    "stock_prices = stock_prices.dropna(axis=1, thresh=int(0.9 * len(stock_prices)))\n",
    "\n",
    "returns = stock_prices.pct_change().dropna().rename(columns={\"Adj Close\": \"Return\"})\n",
    "returns = returns.xs('Return', axis=1, level=0)\n",
    "returns.columns.name = None\n",
    "\n",
    "\n",
    "returns.to_csv(\"returns.csv\")\n"
   ]
  },
  {
   "cell_type": "code",
   "execution_count": 5,
   "metadata": {},
   "outputs": [],
   "source": [
    "split_point = int(0.7 * len(returns))\n",
    "out_sample =returns.iloc[split_point:].copy()\n",
    "out_sample_tall = out_sample.reset_index().melt(id_vars=[\"Date\"], var_name=\"Ticker\", value_name=\"Return\")\n",
    "market_caps = {}\n",
    "selected_tickers = returns.columns\n",
    "for ticker in selected_tickers:\n",
    "    try:\n",
    "        info = yf.Ticker(ticker).info\n",
    "        market_caps[ticker] = info.get('marketCap', 0)\n",
    "    except Exception as e:\n",
    "        market_caps[ticker] = 0\n",
    "total_market_value = sum(market_caps.values())\n",
    "\n",
    "tickers = []\n",
    "weights_list = []\n",
    "for ticker in selected_tickers:\n",
    "    cap = market_caps[ticker]\n",
    "    weight = cap / total_market_value\n",
    "    tickers.append(ticker)\n",
    "    weights_list.append(weight)\n",
    "\n",
    "sp_weights = pd.DataFrame({'Ticker': tickers, 'Weight': weights_list})\n",
    "sp100 = pd.merge(out_sample_tall, sp_weights, on=['Ticker'], how='inner')\n",
    "sp100['Weighted_Return'] = sp100['Return'] * sp100['Weight']\n",
    "sp100_returns = sp100.groupby('Date')['Weighted_Return'].sum().reset_index()\n",
    "sp100_returns = sp100_returns.rename(columns={'Weighted_Return': 'Portfolio_Return'})\n",
    "\n",
    "sp100_returns.to_csv('sp100returns.csv')"
   ]
  },
  {
   "cell_type": "code",
   "execution_count": null,
   "metadata": {},
   "outputs": [],
   "source": []
  }
 ],
 "metadata": {
  "kernelspec": {
   "display_name": "Python [conda env:base] *",
   "language": "python",
   "name": "conda-base-py"
  },
  "language_info": {
   "codemirror_mode": {
    "name": "ipython",
    "version": 3
   },
   "file_extension": ".py",
   "mimetype": "text/x-python",
   "name": "python",
   "nbconvert_exporter": "python",
   "pygments_lexer": "ipython3",
   "version": "3.11.7"
  }
 },
 "nbformat": 4,
 "nbformat_minor": 4
}
