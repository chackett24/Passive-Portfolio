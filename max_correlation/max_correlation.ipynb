{
 "cells": [
  {
   "cell_type": "markdown",
   "metadata": {},
   "source": [
    "### Get Stock Data and Returns"
   ]
  },
  {
   "cell_type": "code",
   "execution_count": 1,
   "metadata": {},
   "outputs": [
    {
     "name": "stderr",
     "output_type": "stream",
     "text": [
      "[*********************100%***********************]  101 of 101 completed\n"
     ]
    }
   ],
   "source": [
    "import yfinance as yf\n",
    "import pandas as pd\n",
    "import numpy as np\n",
    "\n",
    "\n",
    "# Get the tickers for SP-100\n",
    "url = \"https://en.wikipedia.org/wiki/S%26P_100\"\n",
    "\n",
    "# Read the tables on the page\n",
    "tables = pd.read_html(url)\n",
    "\n",
    "tickers = tables[2]['Symbol'].tolist()\n",
    "tickers = [ticker.replace('.', '-') for ticker in tickers]\n",
    "\n",
    "\n",
    "# Download weekly adjusted close prices\n",
    "stock_prices         = yf.download(tickers, start=\"2020-01-01\", end=\"2023-12-31\", auto_adjust = False)\n",
    "stock_prices = stock_prices.resample('W').last()\n",
    "stock_prices.index   = stock_prices.index.tz_localize(None)      # change yf date format to match pdr\n",
    "stock_prices         = stock_prices.filter(like='Adj Close')\n",
    "\n",
    "# Drop columns with too many missing values (e.g. due to IPOs)\n",
    "stock_prices = stock_prices.dropna(axis=1, thresh=int(0.9 * len(stock_prices)))\n",
    "\n",
    "returns = stock_prices.pct_change().dropna().rename(columns={\"Adj Close\": \"Return\"})"
   ]
  },
  {
   "cell_type": "code",
   "execution_count": 2,
   "metadata": {},
   "outputs": [
    {
     "name": "stdout",
     "output_type": "stream",
     "text": [
      "                AAPL      ABBV       ABT       ACN      ADBE       AIG  \\\n",
      "Date                                                                     \n",
      "2020-01-12  0.043372  0.004059 -0.006171 -0.010200  0.024110  0.013045   \n",
      "2020-01-19  0.027068  0.001447  0.047071  0.011311  0.029222  0.016721   \n",
      "2020-01-26 -0.001318 -0.050682  0.015731 -0.003011  0.004661 -0.034782   \n",
      "2020-02-02 -0.027646 -0.030165 -0.036062 -0.016110 -0.000655 -0.015668   \n",
      "2020-02-09  0.036443  0.139102  0.008377  0.031041  0.042576  0.063669   \n",
      "...              ...       ...       ...       ...       ...       ...   \n",
      "2023-12-03  0.006685  0.034182  0.019539  0.012035 -0.011236  0.011655   \n",
      "2023-12-10  0.023374  0.040932 -0.003528 -0.002455 -0.004016 -0.006670   \n",
      "2023-12-17  0.009504  0.031886  0.026600  0.020520 -0.041524  0.012771   \n",
      "2023-12-24 -0.020094  0.005843  0.016218  0.029929  0.024064  0.013937   \n",
      "2023-12-31 -0.005527  0.000194  0.009539 -0.009987 -0.003591  0.012252   \n",
      "\n",
      "                 AMD      AMGN       AMT      AMZN  ...       TXN       UNH  \\\n",
      "Date                                                ...                       \n",
      "2020-01-12 -0.008848 -0.000881  0.009579  0.004368  ...  0.016817  0.019307   \n",
      "2020-01-19  0.057297  0.013557  0.011352 -0.009792  ...  0.013077  0.011317   \n",
      "2020-01-26 -0.011388 -0.065841  0.017565 -0.001652  ... -0.008960 -0.018963   \n",
      "2020-02-02 -0.066534 -0.042289 -0.024335  0.079006  ... -0.068943 -0.069533   \n",
      "2020-02-09  0.058085  0.061467  0.030249  0.035127  ...  0.066722  0.061552   \n",
      "...              ...       ...       ...       ...  ...       ...       ...   \n",
      "2023-12-03 -0.007522  0.026332  0.055940  0.001976  ...  0.010548  0.003522   \n",
      "2023-12-10  0.062031 -0.012222 -0.019100  0.002653  ...  0.011726  0.004770   \n",
      "2023-12-17  0.079352  0.023521  0.027609  0.017298  ...  0.073935 -0.033923   \n",
      "2023-12-24  0.003234  0.031621  0.014330  0.023005  ... -0.002372 -0.020353   \n",
      "2023-12-31  0.055946  0.013584  0.011156 -0.009647  ...  0.013196  0.011839   \n",
      "\n",
      "                 UNP       UPS       USB         V        VZ       WFC  \\\n",
      "Date                                                                     \n",
      "2020-01-12 -0.016798 -0.007282 -0.031448  0.021994 -0.013180 -0.017222   \n",
      "2020-01-19  0.041475  0.023561 -0.023293  0.056407  0.019325 -0.063238   \n",
      "2020-01-26  0.001943 -0.016358 -0.027281  0.001466  0.002495 -0.032737   \n",
      "2020-02-02 -0.033714 -0.112635 -0.011516 -0.029415 -0.013935 -0.013243   \n",
      "2020-02-09  0.024579 -0.003864  0.026306  0.018948  0.008412  0.030047   \n",
      "...              ...       ...       ...       ...       ...       ...   \n",
      "2023-12-03  0.031612  0.018944  0.058602  0.008455  0.031275  0.048928   \n",
      "2023-12-10 -0.001343  0.008973  0.026663 -0.002769 -0.008554  0.023989   \n",
      "2023-12-17  0.053140  0.042483  0.113282  0.008954 -0.023007  0.091323   \n",
      "2023-12-24  0.006612 -0.028784 -0.033326  0.001550  0.003211 -0.022461   \n",
      "2023-12-31  0.008375 -0.006446  0.005932  0.007430  0.005601  0.000813   \n",
      "\n",
      "                 WMT       XOM  \n",
      "Date                            \n",
      "2020-01-12 -0.012808 -0.016921  \n",
      "2020-01-19 -0.012201 -0.008389  \n",
      "2020-01-26 -0.005132 -0.032672  \n",
      "2020-02-02  0.001049 -0.063329  \n",
      "2020-02-09  0.017119 -0.010464  \n",
      "...              ...       ...  \n",
      "2023-12-03 -0.011021 -0.015109  \n",
      "2023-12-10 -0.018917 -0.033401  \n",
      "2023-12-17  0.012462  0.013561  \n",
      "2023-12-24  0.025599  0.010010  \n",
      "2023-12-31  0.006383 -0.018938  \n",
      "\n",
      "[208 rows x 100 columns]\n"
     ]
    }
   ],
   "source": [
    "\n",
    "returns = returns.xs('Return', axis=1, level=0)\n",
    "returns.columns.name = None\n",
    "print(returns)"
   ]
  },
  {
   "cell_type": "code",
   "execution_count": 3,
   "metadata": {},
   "outputs": [],
   "source": [
    "# Define how much of the data is out-of-sample\n",
    "split_point = int(0.7 * len(returns))\n",
    "out_sample = returns.iloc[split_point:].copy()\n",
    "\n",
    "# Number of periods you want\n",
    "m = 4\n",
    "n_rows = len(out_sample)\n",
    "period_length = n_rows // m\n",
    "\n",
    "# Create period labels\n",
    "periods = np.repeat(np.arange(1, m + 1), period_length)\n",
    "remainder = n_rows - len(periods)\n",
    "if remainder > 0:\n",
    "    periods = np.append(periods, [m] * remainder)\n",
    "\n",
    "# Add period column\n",
    "out_sample['period'] = periods\n",
    "\n",
    "\n",
    "is_windows = []\n",
    "period_lengths = out_sample['period'].value_counts().sort_index()\n",
    "\n",
    "for i in range(1, m + 1):    \n",
    "    # Get the first date of this OOS window\n",
    "    start_date = out_sample[out_sample['period'] == i].index[0]\n",
    "\n",
    "    # Define IS window: go back `split` number of rows ending at start_date (non-inclusive)\n",
    "    is_window = returns.loc[:start_date].iloc[-split_point:]\n",
    "    is_windows.append(is_window)"
   ]
  },
  {
   "cell_type": "code",
   "execution_count": 4,
   "metadata": {},
   "outputs": [],
   "source": [
    "for i in range(m):\n",
    "    window_returns = is_windows[i]\n",
    "\n",
    "    flat_returns = window_returns.copy()\n",
    "    flat_returns.columns = window_returns.columns\n",
    "\n",
    "    # Calculate correlations if not done yet\n",
    "    correlations = flat_returns.corr()\n",
    "    tickers = [col[1] for col in stock_prices.columns]\n",
    "    x_matrix = pd.DataFrame(np.zeros((len(tickers), len(tickers))), index=tickers, columns=tickers)\n",
    "    q = 10\n",
    "\n",
    "    # Write to AMPL-style .dat file\n",
    "    file_name = \"max_corr_\" + str(i) + \".txt\"\n",
    "    with open(file_name, \"w\") as f:\n",
    "        f.write(\"set STOCKS := \" + \" \".join(tickers) + \" ;\\n\\n\")\n",
    "\n",
    "        f.write(\"param q := \" + str(q) + \" ;\\n\\n\")\n",
    "\n",
    "        f.write(\"param r:\\n    \" + \" \".join(tickers) + \" :=\\n\")\n",
    "        for t1 in tickers:\n",
    "            row = \" \".join(f\"{correlations.loc[t1, t2]:.4f}\" for t2 in tickers)\n",
    "            f.write(f\"{t1} {row}\\n\")\n",
    "        f.write(\";\\n\") \n"
   ]
  },
  {
   "cell_type": "markdown",
   "metadata": {},
   "source": [
    "# Run AMPL Code At This Point"
   ]
  },
  {
   "cell_type": "code",
   "execution_count": 5,
   "metadata": {},
   "outputs": [
    {
     "name": "stdout",
     "output_type": "stream",
     "text": [
      "[['BLK', 'HON', 'JNJ', 'MDLZ', 'MET', 'MSFT', 'NVDA', 'SO', 'WMT', 'XOM'], ['ACN', 'CVX', 'HON', 'JNJ', 'JPM', 'MDLZ', 'MSFT', 'SO', 'TMO', 'V'], ['BAC', 'BLK', 'CVX', 'GD', 'JNJ', 'KO', 'MSFT', 'NVDA', 'TMO', 'V'], ['BAC', 'BLK', 'CVX', 'GD', 'JNJ', 'KO', 'MSFT', 'TMO', 'V', 'WMT']]\n",
      "    period Ticker    Weight\n",
      "0        1    BLK  0.017622\n",
      "1        1    HON  0.016850\n",
      "2        1    JNJ  0.045952\n",
      "3        1   MDLZ  0.010732\n",
      "4        1    MET  0.006390\n",
      "5        1   MSFT  0.395775\n",
      "6        1   NVDA  0.341773\n",
      "7        1     SO  0.012254\n",
      "8        1    WMT  0.096653\n",
      "9        1    XOM  0.056000\n",
      "10       2    ACN  0.032411\n",
      "11       2    CVX  0.041021\n",
      "12       2    HON  0.023356\n",
      "13       2    JNJ  0.063695\n",
      "14       2    JPM  0.118993\n",
      "15       2   MDLZ  0.014875\n",
      "16       2   MSFT  0.548584\n",
      "17       2     SO  0.016986\n",
      "18       2    TMO  0.027111\n",
      "19       2      V  0.112968\n",
      "20       3    BAC  0.037234\n",
      "21       3    BLK  0.017339\n",
      "22       3    CVX  0.029120\n",
      "23       3     GD  0.008821\n",
      "24       3    JNJ  0.045215\n",
      "25       3     KO  0.037122\n",
      "26       3   MSFT  0.389423\n",
      "27       3   NVDA  0.336288\n",
      "28       3    TMO  0.019245\n",
      "29       3      V  0.080193\n",
      "30       4    BAC  0.049069\n",
      "31       4    BLK  0.022850\n",
      "32       4    CVX  0.038375\n",
      "33       4     GD  0.011624\n",
      "34       4    JNJ  0.059586\n",
      "35       4     KO  0.048921\n",
      "36       4   MSFT  0.513200\n",
      "37       4    TMO  0.025363\n",
      "38       4      V  0.105681\n",
      "39       4    WMT  0.125330\n"
     ]
    }
   ],
   "source": [
    "\n",
    "all_results = []\n",
    "current_result = []\n",
    "\n",
    "with open(\"max_correlation_results.txt\", 'r') as file:\n",
    "    for line in file:\n",
    "        line = line.strip()\n",
    "        if line.lower().startswith(\"result\"):\n",
    "            if current_result:\n",
    "                all_results.append(current_result)\n",
    "                current_result = []\n",
    "        else:\n",
    "            parts = line.split()\n",
    "            if len(parts) == 2 and parts[1] == '1':\n",
    "                current_result.append(parts[0])\n",
    "\n",
    "# Append the last result if not already appended\n",
    "if current_result:\n",
    "    all_results.append(current_result)\n",
    "\n",
    "print(all_results)\n",
    "\n",
    "periods = []\n",
    "tickers = []\n",
    "weights_list = []\n",
    "\n",
    "for i in range(m):\n",
    "    market_caps = {}\n",
    "    selected_tickers = all_results[i]\n",
    "    for ticker in selected_tickers:\n",
    "        try:\n",
    "            info = yf.Ticker(ticker).info\n",
    "            market_caps[ticker] = info.get('marketCap', 0)\n",
    "        except Exception as e:\n",
    "            print(f\"Error retrieving {ticker}: {e}\")\n",
    "            market_caps[ticker] = 0\n",
    "            \n",
    "    total_market_value = sum(market_caps.values())\n",
    "\n",
    "    # Compute weights\n",
    "    for ticker in selected_tickers:\n",
    "        cap = market_caps[ticker]\n",
    "        weight = cap / total_market_value if total_market_value > 0 else 0\n",
    "        periods.append(i + 1)\n",
    "        tickers.append(ticker)\n",
    "        weights_list.append(weight)\n",
    "\n",
    "weights_df = pd.DataFrame({\n",
    "    'period': periods,\n",
    "    'Ticker': tickers,\n",
    "    'Weight': weights_list\n",
    "})  \n",
    "print(weights_df)\n",
    "\n"
   ]
  },
  {
   "cell_type": "code",
   "execution_count": 6,
   "metadata": {},
   "outputs": [
    {
     "name": "stdout",
     "output_type": "stream",
     "text": [
      "           Date  period Ticker    Return\n",
      "0    2022-10-23       1   AAPL  0.064244\n",
      "1    2022-10-30       1   AAPL  0.057513\n",
      "2    2022-11-06       1   AAPL -0.109994\n",
      "3    2022-11-13       1   AAPL  0.081804\n",
      "4    2022-11-20       1   AAPL  0.010621\n",
      "...         ...     ...    ...       ...\n",
      "6295 2023-12-03       4    XOM -0.015109\n",
      "6296 2023-12-10       4    XOM -0.033401\n",
      "6297 2023-12-17       4    XOM  0.013561\n",
      "6298 2023-12-24       4    XOM  0.010010\n",
      "6299 2023-12-31       4    XOM -0.018938\n",
      "\n",
      "[6300 rows x 4 columns]\n"
     ]
    }
   ],
   "source": [
    "stock_set = set([item for sublist in all_results for item in sublist])\n",
    "stock_set.add('period')\n",
    "# Filter out_sample to only have the tickers present in stock_set\n",
    "#out_sample_filtered = out_sample[out_sample.columns.intersection(stock_set)]\n",
    "\n",
    "out_sample_tall = out_sample.reset_index().melt(id_vars=[\"Date\", \"period\"], var_name=\"Ticker\", value_name=\"Return\")\n",
    "print(out_sample_tall)"
   ]
  },
  {
   "cell_type": "code",
   "execution_count": 7,
   "metadata": {},
   "outputs": [],
   "source": [
    "portfolio = pd.merge(out_sample_tall, weights_df, on=['period', 'Ticker'], how='inner')\n",
    "portfolio['Weighted_Return'] = portfolio['Return'] * portfolio['Weight']\n",
    "portfolio_return = portfolio.groupby('Date')['Weighted_Return'].sum().reset_index()\n",
    "portfolio_return = portfolio_return.rename(columns={'Weighted_Return': 'Portfolio_Return'})\n"
   ]
  },
  {
   "cell_type": "markdown",
   "metadata": {},
   "source": [
    "# Analysis"
   ]
  },
  {
   "cell_type": "code",
   "execution_count": 8,
   "metadata": {},
   "outputs": [],
   "source": [
    "market_caps = {}\n",
    "\n",
    "selected_tickers = returns.columns\n",
    "for ticker in selected_tickers:\n",
    "    try:\n",
    "        info = yf.Ticker(ticker).info\n",
    "        market_caps[ticker] = info.get('marketCap', 0)\n",
    "    except Exception as e:\n",
    "        print(f\"Error retrieving {ticker}: {e}\")\n",
    "        market_caps[ticker] = 0\n",
    "        \n",
    "total_market_value = sum(market_caps.values())\n"
   ]
  },
  {
   "cell_type": "code",
   "execution_count": 9,
   "metadata": {},
   "outputs": [],
   "source": [
    "tickers = []\n",
    "weights_list = []\n",
    "# Compute weights\n",
    "for ticker in selected_tickers:\n",
    "    cap = market_caps[ticker]\n",
    "    weight = cap / total_market_value\n",
    "    tickers.append(ticker)\n",
    "    weights_list.append(weight)\n",
    "\n",
    "sp_weights = pd.DataFrame({\n",
    "    'Ticker': tickers,\n",
    "    'Weight': weights_list\n",
    "})  \n"
   ]
  },
  {
   "cell_type": "code",
   "execution_count": 10,
   "metadata": {},
   "outputs": [],
   "source": [
    "sp100 = pd.merge(out_sample_tall, sp_weights, on=['Ticker'], how='inner')\n",
    "sp100['Weighted_Return'] = sp100['Return'] * sp100['Weight']\n",
    "sp100_returns = sp100.groupby('Date')['Weighted_Return'].sum().reset_index()\n",
    "sp100_returns = sp100_returns.rename(columns={'Weighted_Return': 'Portfolio_Return'})\n"
   ]
  },
  {
   "cell_type": "code",
   "execution_count": 11,
   "metadata": {},
   "outputs": [
    {
     "name": "stdout",
     "output_type": "stream",
     "text": [
      "0.8502563099533982\n"
     ]
    }
   ],
   "source": [
    "print(sp100_returns['Portfolio_Return'].corr(portfolio_return['Portfolio_Return']))"
   ]
  },
  {
   "cell_type": "code",
   "execution_count": 12,
   "metadata": {},
   "outputs": [],
   "source": [
    "qs = [5, 15, 20]\n",
    "all_portfolio_returns = {}\n",
    "all_weights = {}\n",
    "\n",
    "for q in qs:\n",
    "    all_results = []\n",
    "\n",
    "    for i in range(m):\n",
    "        window_returns = is_windows[i]\n",
    "        correlations = window_returns.corr()\n",
    "        tickers = list(window_returns.columns)\n",
    "\n",
    "        file_name = f\"max_corr_q{q}_period{i}.dat\"\n",
    "        with open(file_name, \"w\") as f:\n",
    "            f.write(f\"set STOCKS := {' '.join(tickers)} ;\\n\\n\")\n",
    "            f.write(f\"param q := {q} ;\\n\\n\")\n",
    "            f.write(\"param r:\\n    \" + \" \".join(tickers) + \" :=\\n\")\n",
    "            for t1 in tickers:\n",
    "                row = \" \".join(f\"{correlations.loc[t1, t2]:.4f}\" for t2 in tickers)\n",
    "                f.write(f\"{t1} {row}\\n\")\n",
    "            f.write(\";\\n\")"
   ]
  },
  {
   "cell_type": "markdown",
   "metadata": {},
   "source": []
  },
  {
   "cell_type": "markdown",
   "metadata": {},
   "source": [
    "RUN AMPL"
   ]
  },
  {
   "cell_type": "code",
   "execution_count": null,
   "metadata": {},
   "outputs": [],
   "source": []
  }
 ],
 "metadata": {
  "kernelspec": {
   "display_name": "Python [conda env:base] *",
   "language": "python",
   "name": "conda-base-py"
  },
  "language_info": {
   "codemirror_mode": {
    "name": "ipython",
    "version": 3
   },
   "file_extension": ".py",
   "mimetype": "text/x-python",
   "name": "python",
   "nbconvert_exporter": "python",
   "pygments_lexer": "ipython3",
   "version": "3.11.7"
  }
 },
 "nbformat": 4,
 "nbformat_minor": 4
}
